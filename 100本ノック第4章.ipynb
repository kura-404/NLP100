{
 "cells": [
  {
   "cell_type": "markdown",
   "metadata": {
    "id": "hGFQlLu5789s"
   },
   "source": [
    "# セットアップ"
   ]
  },
  {
   "cell_type": "markdown",
   "metadata": {
    "id": "UuM2B0xR7ynY"
   },
   "source": [
    "[リンクテキスト](https://qiita.com/kinakomochi_/items/95990d139f5e5e57fd67)"
   ]
  },
  {
   "cell_type": "code",
   "execution_count": null,
   "metadata": {
    "colab": {
     "base_uri": "https://localhost:8080/"
    },
    "executionInfo": {
     "elapsed": 153741,
     "status": "ok",
     "timestamp": 1753404758590,
     "user": {
      "displayName": "Kuramoto Mana",
      "userId": "07313283856042137724"
     },
     "user_tz": -540
    },
    "id": "xZ3YFCS53hfn",
    "outputId": "a2fe88fc-5e69-41c8-9a9c-8e1460daf632"
   },
   "outputs": [],
   "source": [
    "!pip install -U ginza ja_ginza_electra"
   ]
  },
  {
   "cell_type": "code",
   "execution_count": null,
   "metadata": {
    "colab": {
     "base_uri": "https://localhost:8080/"
    },
    "executionInfo": {
     "elapsed": 13481,
     "status": "ok",
     "timestamp": 1753404772077,
     "user": {
      "displayName": "Kuramoto Mana",
      "userId": "07313283856042137724"
     },
     "user_tz": -540
    },
    "id": "oZSRTApy4F_V",
    "outputId": "73570081-611c-47a7-bcba-250df78fe24e"
   },
   "outputs": [],
   "source": [
    "!pip install -U ginza ja-ginza"
   ]
  },
  {
   "cell_type": "code",
   "execution_count": null,
   "metadata": {
    "colab": {
     "base_uri": "https://localhost:8080/"
    },
    "executionInfo": {
     "elapsed": 455,
     "status": "ok",
     "timestamp": 1753404772534,
     "user": {
      "displayName": "Kuramoto Mana",
      "userId": "07313283856042137724"
     },
     "user_tz": -540
    },
    "id": "THylGzOr4sya",
    "outputId": "0f9ad061-1fc6-4207-85af-d790202c0730"
   },
   "outputs": [],
   "source": [
    "import pkg_resources, imp\n",
    "imp.reload(pkg_resources)"
   ]
  },
  {
   "cell_type": "code",
   "execution_count": null,
   "metadata": {
    "colab": {
     "base_uri": "https://localhost:8080/",
     "height": 526,
     "referenced_widgets": [
      "4c54fabce5054439a4fd6cc693fa04e9",
      "b0a89aabc48b4b4a93a7dcdd842e519d",
      "40dc8205efcd4d5c852db9c8d8f5f23c",
      "cdda00d9b99c4337bbf48cffe9829876",
      "12eeb27e0e8e4622b36687a4669944fd",
      "cef4c30915fd45aa9ae2834a85d13d80",
      "41e85b0537ae4250a17a7b7ddddc51f4",
      "c2b1eaaa1c4445958a27f98360fc48bb",
      "f64ffc9b00db4015961f218d02df36a7",
      "4417468a33ac492984dc324ea0199634",
      "43f1935b38c342eabcfc68e5847a3fb7",
      "1dc8fd7d9ffc472cae38507a3b763655",
      "ed6852a153f24b5ab297ce00fd0419c4",
      "8d6dd04a8b6e43f29028a121124c64d9",
      "b142246edf074bab91ed2b4d136f7dae",
      "20b643403fee4a9c871b214846c56c67",
      "4da2c269076c4958bb1f9cea560d0acc",
      "7b6bcca4b6e34d4dbcce3f2985faf5e9",
      "5e6a659cb27a4a6f9f262f0b1956ef3b",
      "aab9aca424994c56b1a64749ed64f284",
      "1f222449b1794281b9b7afef8afe9996",
      "9c89f8085b514543b7529a4a6669040c"
     ]
    },
    "executionInfo": {
     "elapsed": 37733,
     "status": "ok",
     "timestamp": 1753404810283,
     "user": {
      "displayName": "Kuramoto Mana",
      "userId": "07313283856042137724"
     },
     "user_tz": -540
    },
    "id": "KbWm2god4wUt",
    "outputId": "d007c346-8bfc-412e-d3f7-227e040d30e4"
   },
   "outputs": [],
   "source": [
    "import spacy\n",
    "\n",
    "nlp = spacy.load('ja_ginza_electra')  # または 'ja_ginza'（インストール済みモデル名に応じて）\n",
    "doc = nlp('文書の形態素解析をしてみたよ')\n",
    "\n",
    "for sent in doc.sents:\n",
    "    for token in sent:\n",
    "        print(\n",
    "            token.i,                        # トークンのインデックス\n",
    "            token.orth_,                    # 表層形\n",
    "            token.lemma_,                   # 基本形\n",
    "            token.norm_,                    # 正規化形\n",
    "            token.morph.get(\"Reading\"),     # 読み\n",
    "            token.pos_,                     # 品詞\n",
    "            token.morph.get(\"Inflection\"),  # 活用形\n",
    "            token.tag_,                     # 詳細品詞タグ\n",
    "            token.dep_,                     # 係り受け関係\n",
    "            token.head.i                    # 係り先のトークンインデックス\n",
    "        )"
   ]
  },
  {
   "cell_type": "code",
   "execution_count": null,
   "metadata": {
    "executionInfo": {
     "elapsed": 4,
     "status": "ok",
     "timestamp": 1753404810289,
     "user": {
      "displayName": "Kuramoto Mana",
      "userId": "07313283856042137724"
     },
     "user_tz": -540
    },
    "id": "_LgAVC6uAQ80"
   },
   "outputs": [],
   "source": [
    "import spacy"
   ]
  },
  {
   "cell_type": "code",
   "execution_count": null,
   "metadata": {
    "colab": {
     "base_uri": "https://localhost:8080/"
    },
    "executionInfo": {
     "elapsed": 13893,
     "status": "ok",
     "timestamp": 1753407176454,
     "user": {
      "displayName": "Kuramoto Mana",
      "userId": "07313283856042137724"
     },
     "user_tz": -540
    },
    "id": "O4o7eTNzNfPi",
    "outputId": "f28d400b-979f-4a56-ba0e-ceeef95d21d1"
   },
   "outputs": [],
   "source": [
    "!pip install nbstripout"
   ]
  },
  {
   "cell_type": "code",
   "execution_count": null,
   "metadata": {
    "colab": {
     "base_uri": "https://localhost:8080/"
    },
    "executionInfo": {
     "elapsed": 453,
     "status": "ok",
     "timestamp": 1753407190208,
     "user": {
      "displayName": "Kuramoto Mana",
      "userId": "07313283856042137724"
     },
     "user_tz": -540
    },
    "id": "3iYjLUA1NjKC",
    "outputId": "0cf761e6-d274-49e9-c179-4fa972a8d2a5"
   },
   "outputs": [],
   "source": [
    "!nbstripout 100本ノック第4章.ipynb"
   ]
  },
  {
   "cell_type": "markdown",
   "metadata": {
    "id": "cVNGL-b88Csx"
   },
   "source": [
    "# 33\n",
    "文章textに係り受け解析を適用し、係り元と係り先のトークン（形態素や文節などの単位）をタブ区切り形式ですべて抽出せよ。"
   ]
  },
  {
   "cell_type": "code",
   "execution_count": null,
   "metadata": {
    "colab": {
     "base_uri": "https://localhost:8080/"
    },
    "executionInfo": {
     "elapsed": 2569,
     "status": "ok",
     "timestamp": 1753404812860,
     "user": {
      "displayName": "Kuramoto Mana",
      "userId": "07313283856042137724"
     },
     "user_tz": -540
    },
    "id": "xBbOWyU65M3E",
    "outputId": "b1253eed-56af-48b8-d9e2-00b16f422ac4"
   },
   "outputs": [],
   "source": [
    "import spacy\n",
    "\n",
    "nlp=spacy.load(\"ja_ginza_electra\")\n",
    "text=\"\"\"\n",
    "メロスは激怒した。\n",
    "必ず、かの邪智暴虐の王を除かなければならぬと決意した。\n",
    "メロスには政治がわからぬ。\n",
    "メロスは、村の牧人である。\n",
    "笛を吹き、羊と遊んで暮して来た。\n",
    "けれども邪悪に対しては、人一倍に敏感であった。\n",
    "\"\"\"\n",
    "\n",
    "doc=nlp(text)\n",
    "\n",
    "for token in doc:\n",
    "    print(f\"{token.text}\\t{token.head.text}\")"
   ]
  },
  {
   "cell_type": "code",
   "execution_count": null,
   "metadata": {
    "colab": {
     "base_uri": "https://localhost:8080/",
     "height": 1000
    },
    "executionInfo": {
     "elapsed": 2665,
     "status": "ok",
     "timestamp": 1753404815532,
     "user": {
      "displayName": "Kuramoto Mana",
      "userId": "07313283856042137724"
     },
     "user_tz": -540
    },
    "id": "5Oc4A8z59JiU",
    "outputId": "3c17377c-0da4-456c-cd60-9e5779e55477"
   },
   "outputs": [],
   "source": [
    "import spacy\n",
    "import pandas as pd\n",
    "from IPython.display import display\n",
    "\n",
    "# GiNZA ELECTRAモデルの読み込み\n",
    "nlp = spacy.load(\"ja_ginza_electra\")\n",
    "\n",
    "# 対象テキスト\n",
    "text = \"\"\"\n",
    "メロスは激怒した。\n",
    "必ず、かの邪智暴虐の王を除かなければならぬと決意した。\n",
    "メロスには政治がわからぬ。\n",
    "メロスは、村の牧人である。\n",
    "笛を吹き、羊と遊んで暮して来た。\n",
    "けれども邪悪に対しては、人一倍に敏感であった。\n",
    "\"\"\"\n",
    "\n",
    "# GiNZAで係り受け解析を実行\n",
    "doc = nlp(text)\n",
    "\n",
    "# 結果をリストで保持\n",
    "rows = []\n",
    "for token in doc:\n",
    "    rows.append({\n",
    "        \"表層形\": token.text,\n",
    "        \"原形\": token.lemma_,\n",
    "        \"品詞\": token.pos_,\n",
    "        \"係り受け関係\": token.dep_,\n",
    "        \"係り先の単語\": token.head.text,\n",
    "        \"係り元の位置\": token.i,\n",
    "        \"係り先の位置\": token.head.i\n",
    "    })\n",
    "\n",
    "# pandasのDataFrameに変換\n",
    "df = pd.DataFrame(rows)\n",
    "\n",
    "# Colabで見やすく表示（テーブル形式）\n",
    "display(df.style.set_table_styles([\n",
    "    {'selector': 'thead th', 'props': [('background-color', '#f0f0f0'), ('color', 'black')]},\n",
    "    {'selector': 'tbody td', 'props': [('text-align', 'center')]}\n",
    "]).set_properties(**{'border': '1px solid gray', 'padding': '5px'}))"
   ]
  },
  {
   "cell_type": "markdown",
   "metadata": {
    "id": "rpFie1oC8Go8"
   },
   "source": [
    "# 34:主述の関係\n",
    "文章textにおいて、「メロス」が主語であるときの述語を抽出せよ。\n",
    "[出力の読み方(主語がどれか)](https://note.com/npaka/n/n5c3e4ca67956#PrfvI)"
   ]
  },
  {
   "cell_type": "code",
   "execution_count": null,
   "metadata": {
    "colab": {
     "base_uri": "https://localhost:8080/"
    },
    "executionInfo": {
     "elapsed": 4776,
     "status": "ok",
     "timestamp": 1753405161822,
     "user": {
      "displayName": "Kuramoto Mana",
      "userId": "07313283856042137724"
     },
     "user_tz": -540
    },
    "id": "REukdZvo5xF0",
    "outputId": "0f8fbfed-0d29-43c8-ce06-4bc04807efcf"
   },
   "outputs": [],
   "source": [
    "# import spacy\n",
    "\n",
    "nlp=spacy.load(\"ja_ginza\")\n",
    "\n",
    "text \"\"\"\n",
    "メロスは激怒した。\n",
    "必ず、かの邪智暴虐の王を除かなければならぬと決意した。\n",
    "メロスには政治がわからぬ。\n",
    "メロスは、村の牧人である。\n",
    "笛を吹き、羊と遊んで暮して来た。\n",
    "けれども邪悪に対しては、人一倍に敏感であった。\n",
    "\"\"\"\n",
    "\n",
    "doc=nlp(text)\n",
    "\n",
    "predicates=[]\n",
    "\n",
    "for sent in doc.sents:\n",
    "    for token in sent:\n",
    "        if token.text==\"メロス\" and token.dep_==\"nsubj\":\n",
    "            head=token.head\n",
    "            if head.pos_ in (\"VERB\",\"AUX\"):\n",
    "                predicates.append(head.text)\n",
    "            elif head.pos_==\"NOUN\":\n",
    "                cop_found=None\n",
    "                fixed_found=None\n",
    "                for child in head.children:\n",
    "                    if child.dep_ == \"cop\":\n",
    "                        cop_found = child\n",
    "                        for grandchild in child.children:\n",
    "                            if grandchild.dep_ == \"fixed\":\n",
    "                                fixed_found = grandchild\n",
    "                if cop_found and fixed_found:\n",
    "                    predicates.append(f\"{head.text}{cop_found.text}{fixed_found.text}\")  # e.g., 牧人である\n",
    "                elif cop_found:\n",
    "                    predicates.append(f\"{head.text}{cop_found.text}\")  # 牧人で\n",
    "                else:\n",
    "                    predicates.append(head.text)  # 名詞単独\n",
    "\n",
    "print(sorted(set(predicates)))"
   ]
  },
  {
   "cell_type": "markdown",
   "metadata": {
    "id": "BR2vpe3VH_dV"
   },
   "source": [
    "# 35:係り受け木\n",
    "「メロスは激怒した。」の係り受け木を可視化せよ。\n",
    "\n",
    "[【初心者向け】自然言語処理ツール「GiNZA」を用いた言語解析（形態素解析からベクトル化まで）](https://qiita.com/cove_ht/items/63ffdd8ff237d4845566#%E3%81%AF%E3%81%98%E3%82%81%E3%81%AB)"
   ]
  },
  {
   "cell_type": "code",
   "execution_count": null,
   "metadata": {
    "colab": {
     "base_uri": "https://localhost:8080/",
     "height": 325
    },
    "executionInfo": {
     "elapsed": 2138,
     "status": "ok",
     "timestamp": 1753405914892,
     "user": {
      "displayName": "Kuramoto Mana",
      "userId": "07313283856042137724"
     },
     "user_tz": -540
    },
    "id": "kPogQLey6Nww",
    "outputId": "04ecf2f3-3bbc-41a8-afe5-d897b0848ddf"
   },
   "outputs": [],
   "source": [
    "from spacy import displacy\n",
    "from IPython.display import display, HTML\n",
    "import spacy\n",
    "\n",
    "nlp=spacy.load(\"ja_ginza\")\n",
    "text=\"メロスは激怒した。\"\n",
    "doc=nlp(text)\n",
    "\n",
    "html=displacy.render(doc,style=\"dep\",options={\"compact\":True})\n",
    "display(HTML(html))"
   ]
  },
  {
   "cell_type": "markdown",
   "metadata": {
    "id": "x4Yuu95FJz4u"
   },
   "source": [
    "# 36~39\n",
    "問題36から39までは、Wikipediaの記事を以下のフォーマットで書き出したファイルjawiki-country.json.gzをコーパスと見なし、統計的な分析を行う。\n",
    "\n",
    "1行に1記事の情報がJSON形式で格納される\n",
    "各行には記事名が”title”キーに、記事本文が”text”キーの辞書オブジェクトに格納され、そのオブジェクトがJSON形式で書き出される\n",
    "ファイル全体はgzipで圧縮される\n",
    "\n",
    "\n",
    "[Colab環境でMeCabを使う3行](https://qiita.com/Ninagawa123/items/c90cccb453e2a6fc4466)"
   ]
  },
  {
   "cell_type": "code",
   "execution_count": null,
   "metadata": {
    "colab": {
     "base_uri": "https://localhost:8080/"
    },
    "executionInfo": {
     "elapsed": 5770,
     "status": "ok",
     "timestamp": 1753407950183,
     "user": {
      "displayName": "Kuramoto Mana",
      "userId": "07313283856042137724"
     },
     "user_tz": -540
    },
    "id": "n71-O7faOcRN",
    "outputId": "805334e6-0eee-4186-9e28-e6df4bef1cf5"
   },
   "outputs": [],
   "source": [
    "! pip install mecab-python3 unidic-lite\n",
    "import MeCab\n",
    "print(MeCab.Tagger().parse(\"これはテストです\"))"
   ]
  },
  {
   "cell_type": "markdown",
   "metadata": {
    "id": "YgQdqjVLJvJa"
   },
   "source": [
    "# 36:単語の出現頻度\n",
    "まず、第3章の処理内容を参考に、Wikipedia記事からマークアップを除去し、各記事のテキストを抽出せよ。そして、コーパスにおける単語（形態素）の出現頻度を求め、出現頻度の高い20語とその出現頻度を表示せよ。\n",
    "\n",
    "[MeCabの出力形式を整理して、Pandasで扱えるようにした](https://qiita.com/hasoya/items/0561bb1481a648aa8e6e)"
   ]
  },
  {
   "cell_type": "code",
   "execution_count": null,
   "metadata": {
    "colab": {
     "base_uri": "https://localhost:8080/"
    },
    "executionInfo": {
     "elapsed": 12839,
     "status": "ok",
     "timestamp": 1753408142936,
     "user": {
      "displayName": "Kuramoto Mana",
      "userId": "07313283856042137724"
     },
     "user_tz": -540
    },
    "id": "WO2swNDOK0m2",
    "outputId": "54195747-2540-47c7-caa1-aacf082eeffe"
   },
   "outputs": [],
   "source": [
    "import gzip\n",
    "import json\n",
    "import re\n",
    "from collections import Counter\n",
    "import MeCab\n",
    "\n",
    "tagger = MeCab.Tagger()\n",
    "file_path = \"/content/drive/MyDrive/jawiki-country.json.gz\"\n",
    "word_counter = Counter()\n",
    "\n",
    "with gzip.open(file_path, mode='rt', encoding='utf-8') as f:\n",
    "    for line in f:\n",
    "        article = json.loads(line)\n",
    "        text = article.get(\"text\", \"\")\n",
    "        clean_text = re.sub(r'\\[\\[.*?\\]\\]', '', text)\n",
    "        clean_text = re.sub(r\"''+\", '', clean_text)\n",
    "        node = tagger.parseToNode(clean_text)\n",
    "        while node:\n",
    "            surface = node.surface\n",
    "            features = node.feature.split(',')\n",
    "            pos = features[0]\n",
    "            if not pos.startswith(\"補助記号\") and not pos.startswith(\"助詞\") and not pos.startswith(\"助動詞\"):\n",
    "                word_counter[surface] += 1\n",
    "            node = node.next\n",
    "\n",
    "for word, freq in word_counter.most_common(20):\n",
    "    print(f\"{word}\\t{freq}\")"
   ]
  },
  {
   "cell_type": "code",
   "execution_count": null,
   "metadata": {
    "colab": {
     "base_uri": "https://localhost:8080/"
    },
    "executionInfo": {
     "elapsed": 49526,
     "status": "ok",
     "timestamp": 1753408307906,
     "user": {
      "displayName": "Kuramoto Mana",
      "userId": "07313283856042137724"
     },
     "user_tz": -540
    },
    "id": "p1FOO5J9K6NG",
    "outputId": "75631513-9b73-482d-b9b3-84be7e31a3ac"
   },
   "outputs": [],
   "source": [
    "# 1. Google Driveをマウント\n",
    "from google.colab import drive\n",
    "drive.mount('/content/drive')\n",
    "\n",
    "# 2. クリーンアップツールをインストール\n",
    "!pip install nbstripout -q\n",
    "\n",
    "# 3. ★★★ 自分のノートブックのパスに書き換える ★★★\n",
    "NOTEBOOK_PATH = \"/content/drive/My Drive/Colab Notebooks/Your_Notebook_Name.ipynb\"\n",
    "\n",
    "# 4. nbstripoutを実行して、ノートブックから不要なメタデータを削除\n",
    "!nbstripout \"{NOTEBOOK_PATH}\"\n",
    "\n",
    "print(f\"\\n✅ クリーンアップ完了: {NOTEBOOK_PATH}\")\n",
    "print(\"このファイルをGoogle DriveからダウンロードしてGitHubにアップロードしてください。\")"
   ]
  },
  {
   "cell_type": "code",
   "execution_count": null,
   "metadata": {
    "id": "YOkF-NVNRsDW"
   },
   "outputs": [],
   "source": []
  }
 ],
 "metadata": {
  "colab": {
   "authorship_tag": "ABX9TyNl0M23xqiABquroWCje9a4",
   "mount_file_id": "1BTlsr0NNWxh2J_nBLWlapWnv38YHRQCs",
   "provenance": []
  },
  "kernelspec": {
   "display_name": "Python 3",
   "name": "python3"
  },
  "language_info": {
   "name": "python"
  }
 },
 "nbformat": 4,
 "nbformat_minor": 0
}
