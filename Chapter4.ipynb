{
 "cells": [
  {
   "cell_type": "markdown",
   "id": "3bfe0de1",
   "metadata": {},
   "source": [
    "# 第4章: 言語解析\n",
    "問題30から問題35までは、以下の文章text（太宰治の『走れメロス』の冒頭部分）に対して、言語解析を実施せよ。問題36から問題39までは、国家を説明した文書群（日本語版ウィキペディア記事から抽出したテキスト群）をコーパスとして、言語解析を実施せよ。"
   ]
  },
  {
   "cell_type": "code",
   "execution_count": 4,
   "id": "b7d5aa9d",
   "metadata": {},
   "outputs": [],
   "source": [
    "text = \"\"\"\n",
    "メロスは激怒した。\n",
    "必ず、かの邪智暴虐の王を除かなければならぬと決意した。\n",
    "メロスには政治がわからぬ。\n",
    "メロスは、村の牧人である。\n",
    "笛を吹き、羊と遊んで暮して来た。\n",
    "けれども邪悪に対しては、人一倍に敏感であった。\n",
    "\"\"\""
   ]
  },
  {
   "cell_type": "markdown",
   "id": "53e34db3",
   "metadata": {},
   "source": [
    "## 30. 動詞\n",
    "文章textに含まれる動詞をすべて表示せよ。"
   ]
  },
  {
   "cell_type": "code",
   "execution_count": null,
   "id": "8bd20b66",
   "metadata": {},
   "outputs": [
    {
     "name": "stdout",
     "output_type": "stream",
     "text": [
      "['する', '除く', 'なる', 'する', 'わかる', '吹く', '遊ぶ', '暮す', '来る']\n"
     ]
    }
   ],
   "source": [
    "#形態素解析エンジンMeCabのPythonバインディングをインポート\n",
    "import MeCab \n",
    "\n",
    "# MeCabのTaggerオブジェクトを生成（引数なしでシステム既定の設定を使用）\n",
    "tagger = MeCab.Tagger()\n",
    "\n",
    "# 動詞の基本形（辞書形）を格納するリスト\n",
    "verbs = []\n",
    "\n",
    "# 文章全体を形態素解析して、1つの文字列として結果を得る（改行区切りで各単語ごと）\n",
    "node = tagger.parse(text)\n",
    "\n",
    "# 結果を1行ずつ処理（1行 = 1単語とその品詞などの情報）\n",
    "for line in node.split('\\n'):\n",
    "    # EOS（End of Sentence）や空行は無視\n",
    "    if line == 'EOS' or line == '':\n",
    "        continue\n",
    "\n",
    "    # 表層形（単語として現れた形）と特徴（品詞などのCSV）に分ける\n",
    "    surface, feature = line.split('\\t')\n",
    "    features = feature.split(',')  # 特徴はカンマで区切られた文字列\n",
    "\n",
    "    pos = features[0]  # 品詞（例：動詞、名詞など）\n",
    "\n",
    "    # 品詞が「動詞」の場合のみ処理\n",
    "    if pos == '動詞':\n",
    "        # 6番目の要素に基本形（辞書に載っている形）がある（例：「した」→「する」）\n",
    "        base_form = features[6] if features[6] != '*' else surface\n",
    "        # 基本形をリストに追加\n",
    "        verbs.append(base_form)\n",
    "\n",
    "# 動詞の基本形一覧を出力\n",
    "print(verbs)"
   ]
  }
 ],
 "metadata": {
  "kernelspec": {
   "display_name": ".venv",
   "language": "python",
   "name": "python3"
  },
  "language_info": {
   "codemirror_mode": {
    "name": "ipython",
    "version": 3
   },
   "file_extension": ".py",
   "mimetype": "text/x-python",
   "name": "python",
   "nbconvert_exporter": "python",
   "pygments_lexer": "ipython3",
   "version": "3.9.6"
  }
 },
 "nbformat": 4,
 "nbformat_minor": 5
}
