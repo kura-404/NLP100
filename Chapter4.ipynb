{
 "cells": [
  {
   "cell_type": "markdown",
   "id": "3bfe0de1",
   "metadata": {},
   "source": [
    "# 第4章: 言語解析\n",
    "問題30から問題35までは、以下の文章text（太宰治の『走れメロス』の冒頭部分）に対して、言語解析を実施せよ。問題36から問題39までは、国家を説明した文書群（日本語版ウィキペディア記事から抽出したテキスト群）をコーパスとして、言語解析を実施せよ。"
   ]
  },
  {
   "cell_type": "markdown",
   "id": "50e92817",
   "metadata": {},
   "source": [
    "https://nlp100.github.io/2025/ja/ch04.html"
   ]
  },
  {
   "cell_type": "code",
   "execution_count": 4,
   "id": "b7d5aa9d",
   "metadata": {},
   "outputs": [],
   "source": [
    "text = \"\"\"\n",
    "メロスは激怒した。\n",
    "必ず、かの邪智暴虐の王を除かなければならぬと決意した。\n",
    "メロスには政治がわからぬ。\n",
    "メロスは、村の牧人である。\n",
    "笛を吹き、羊と遊んで暮して来た。\n",
    "けれども邪悪に対しては、人一倍に敏感であった。\n",
    "\"\"\""
   ]
  },
  {
   "cell_type": "code",
   "execution_count": 17,
   "id": "0dbeddaf",
   "metadata": {},
   "outputs": [
    {
     "name": "stdout",
     "output_type": "stream",
     "text": [
      "Requirement already satisfied: pandas in ./.venv/lib/python3.9/site-packages (2.3.1)\n",
      "Requirement already satisfied: pytz>=2020.1 in ./.venv/lib/python3.9/site-packages (from pandas) (2025.2)\n",
      "Requirement already satisfied: python-dateutil>=2.8.2 in ./.venv/lib/python3.9/site-packages (from pandas) (2.9.0.post0)\n",
      "Requirement already satisfied: numpy>=1.22.4 in ./.venv/lib/python3.9/site-packages (from pandas) (2.0.2)\n",
      "Requirement already satisfied: tzdata>=2022.7 in ./.venv/lib/python3.9/site-packages (from pandas) (2025.2)\n",
      "Requirement already satisfied: six>=1.5 in ./.venv/lib/python3.9/site-packages (from python-dateutil>=2.8.2->pandas) (1.17.0)\n",
      "\u001b[33mWARNING: You are using pip version 21.2.4; however, version 25.1.1 is available.\n",
      "You should consider upgrading via the '/Users/kuramotomana/nlp100/.venv/bin/python3 -m pip install --upgrade pip' command.\u001b[0m\n"
     ]
    }
   ],
   "source": [
    "!pip install pandas"
   ]
  },
  {
   "cell_type": "markdown",
   "id": "53e34db3",
   "metadata": {},
   "source": [
    "## 30. 動詞\n",
    "文章textに含まれる動詞をすべて表示せよ。"
   ]
  },
  {
   "cell_type": "code",
   "execution_count": 19,
   "id": "8bd20b66",
   "metadata": {},
   "outputs": [
    {
     "name": "stdout",
     "output_type": "stream",
     "text": [
      "🔍 MeCabの解析結果（全文）\n",
      "メロス\t名詞,一般,*,*,*,*,*\n",
      "は\t助詞,係助詞,*,*,*,*,は,ハ,ワ\n",
      "激怒\t名詞,サ変接続,*,*,*,*,激怒,ゲキド,ゲキド\n",
      "し\t動詞,自立,*,*,サ変・スル,連用形,する,シ,シ\n",
      "た\t助動詞,*,*,*,特殊・タ,基本形,た,タ,タ\n",
      "。\t記号,句点,*,*,*,*,。,。,。\n",
      "必ず\t副詞,助詞類接続,*,*,*,*,必ず,カナラズ,カナラズ\n",
      "、\t記号,読点,*,*,*,*,、,、,、\n",
      "かの\t連体詞,*,*,*,*,*,かの,カノ,カノ\n",
      "邪智\t名詞,一般,*,*,*,*,邪智,ジャチ,ジャチ\n",
      "暴虐\t名詞,一般,*,*,*,*,暴虐,ボウギャク,ボーギャク\n",
      "の\t助詞,連体化,*,*,*,*,の,ノ,ノ\n",
      "王\t名詞,一般,*,*,*,*,王,オウ,オー\n",
      "を\t助詞,格助詞,一般,*,*,*,を,ヲ,ヲ\n",
      "除か\t動詞,自立,*,*,五段・カ行イ音便,未然形,除く,ノゾカ,ノゾカ\n",
      "なけれ\t助動詞,*,*,*,特殊・ナイ,仮定形,ない,ナケレ,ナケレ\n",
      "ば\t助詞,接続助詞,*,*,*,*,ば,バ,バ\n",
      "なら\t動詞,非自立,*,*,五段・ラ行,未然形,なる,ナラ,ナラ\n",
      "ぬ\t助動詞,*,*,*,特殊・ヌ,基本形,ぬ,ヌ,ヌ\n",
      "と\t助詞,格助詞,引用,*,*,*,と,ト,ト\n",
      "決意\t名詞,サ変接続,*,*,*,*,決意,ケツイ,ケツイ\n",
      "し\t動詞,自立,*,*,サ変・スル,連用形,する,シ,シ\n",
      "た\t助動詞,*,*,*,特殊・タ,基本形,た,タ,タ\n",
      "。\t記号,句点,*,*,*,*,。,。,。\n",
      "メロス\t名詞,一般,*,*,*,*,*\n",
      "に\t助詞,格助詞,一般,*,*,*,に,ニ,ニ\n",
      "は\t助詞,係助詞,*,*,*,*,は,ハ,ワ\n",
      "政治\t名詞,一般,*,*,*,*,政治,セイジ,セイジ\n",
      "が\t助詞,格助詞,一般,*,*,*,が,ガ,ガ\n",
      "わから\t動詞,自立,*,*,五段・ラ行,未然形,わかる,ワカラ,ワカラ\n",
      "ぬ\t助動詞,*,*,*,特殊・ヌ,基本形,ぬ,ヌ,ヌ\n",
      "。\t記号,句点,*,*,*,*,。,。,。\n",
      "メロス\t名詞,一般,*,*,*,*,*\n",
      "は\t助詞,係助詞,*,*,*,*,は,ハ,ワ\n",
      "、\t記号,読点,*,*,*,*,、,、,、\n",
      "村\t名詞,一般,*,*,*,*,村,ムラ,ムラ\n",
      "の\t助詞,連体化,*,*,*,*,の,ノ,ノ\n",
      "牧人\t名詞,一般,*,*,*,*,牧人,ボクジン,ボクジン\n",
      "で\t助動詞,*,*,*,特殊・ダ,連用形,だ,デ,デ\n",
      "ある\t助動詞,*,*,*,五段・ラ行アル,基本形,ある,アル,アル\n",
      "。\t記号,句点,*,*,*,*,。,。,。\n",
      "笛\t名詞,一般,*,*,*,*,笛,フエ,フエ\n",
      "を\t助詞,格助詞,一般,*,*,*,を,ヲ,ヲ\n",
      "吹き\t動詞,自立,*,*,五段・カ行イ音便,連用形,吹く,フキ,フキ\n",
      "、\t記号,読点,*,*,*,*,、,、,、\n",
      "羊\t名詞,一般,*,*,*,*,羊,ヒツジ,ヒツジ\n",
      "と\t助詞,格助詞,一般,*,*,*,と,ト,ト\n",
      "遊ん\t動詞,自立,*,*,五段・バ行,連用タ接続,遊ぶ,アソン,アソン\n",
      "で\t助詞,接続助詞,*,*,*,*,で,デ,デ\n",
      "暮し\t動詞,自立,*,*,五段・サ行,連用形,暮す,クラシ,クラシ\n",
      "て\t助詞,接続助詞,*,*,*,*,て,テ,テ\n",
      "来\t動詞,非自立,*,*,カ変・来ル,連用形,来る,キ,キ\n",
      "た\t助動詞,*,*,*,特殊・タ,基本形,た,タ,タ\n",
      "。\t記号,句点,*,*,*,*,。,。,。\n",
      "けれども\t接続詞,*,*,*,*,*,けれども,ケレドモ,ケレドモ\n",
      "邪悪\t名詞,形容動詞語幹,*,*,*,*,邪悪,ジャアク,ジャアク\n",
      "に対して\t助詞,格助詞,連語,*,*,*,に対して,ニタイシテ,ニタイシテ\n",
      "は\t助詞,係助詞,*,*,*,*,は,ハ,ワ\n",
      "、\t記号,読点,*,*,*,*,、,、,、\n",
      "人一倍\t名詞,形容動詞語幹,*,*,*,*,人一倍,ヒトイチバイ,ヒトイチバイ\n",
      "に\t助詞,副詞化,*,*,*,*,に,ニ,ニ\n",
      "敏感\t名詞,形容動詞語幹,*,*,*,*,敏感,ビンカン,ビンカン\n",
      "で\t助動詞,*,*,*,特殊・ダ,連用形,だ,デ,デ\n",
      "あっ\t助動詞,*,*,*,五段・ラ行アル,連用タ接続,ある,アッ,アッ\n",
      "た\t助動詞,*,*,*,特殊・タ,基本形,た,タ,タ\n",
      "。\t記号,句点,*,*,*,*,。,。,。\n",
      "EOS\n",
      "\n",
      "📝 動詞のリスト（Pythonのリスト形式）\n",
      "['する', '除く', 'なる', 'する', 'わかる', '吹く', '遊ぶ', '暮す', '来る']\n"
     ]
    }
   ],
   "source": [
    "# 形態素解析エンジンMeCabのPythonバインディングをインポート\n",
    "import MeCab\n",
    "\n",
    "# pandasをインポート（MeCab出力の省略対策のためではなく、今は未使用）\n",
    "import pandas as pd\n",
    "\n",
    "# pandasの表示設定（将来DataFrame使うとき用、今はMeCabの出力をそのまま使う）\n",
    "pd.set_option(\"display.max_rows\", None)         # 表示する最大行数を無制限に\n",
    "pd.set_option(\"display.max_colwidth\", None)     # 列の文字数も制限なしに\n",
    "\n",
    "# 解析したい日本語テキスト（複数行にわたる文章）\n",
    "text = \"\"\"\n",
    "メロスは激怒した。\n",
    "必ず、かの邪智暴虐の王を除かなければならぬと決意した。\n",
    "メロスには政治がわからぬ。\n",
    "メロスは、村の牧人である。\n",
    "笛を吹き、羊と遊んで暮して来た。\n",
    "けれども邪悪に対しては、人一倍に敏感であった。\n",
    "\"\"\"\n",
    "\n",
    "# MeCabのTaggerオブジェクトを生成（辞書や動作設定はOSに依存して自動選択される）\n",
    "tagger = MeCab.Tagger()\n",
    "\n",
    "# MeCabでテキスト全体を形態素解析し、解析結果を改行区切りの文字列として取得\n",
    "node = tagger.parse(text)\n",
    "\n",
    "# 【出力1】MeCabの解析結果をそのまま表示（省略なし）\n",
    "print(\"🔍 MeCabの解析結果（全文）\")\n",
    "print(node)\n",
    "\n",
    "# 動詞の基本形（辞書に載っている元の形）を保存するためのリストを作成\n",
    "verbs = []\n",
    "\n",
    "# MeCabの出力は1語ごとに1行なので、改行で分割して1行ずつ処理\n",
    "for line in node.split('\\n'):\n",
    "\n",
    "    # 'EOS' は MeCab における「文の終わり」のマーク。空行とともにスキップする\n",
    "    if line == 'EOS' or line == '':\n",
    "        continue\n",
    "\n",
    "    try:\n",
    "        # 各行は「表層形（表示される形） + タブ + 品詞情報」の形式なので、分ける\n",
    "        surface, feature = line.split('\\t')\n",
    "\n",
    "        # 品詞情報（「名詞,一般,*,*,*,*,〜」のようなカンマ区切りの情報）を分割\n",
    "        features = feature.split(',')\n",
    "\n",
    "        # 品詞情報の0番目（features[0]）が「動詞」だったら処理を進める\n",
    "        if features[0] == '動詞':\n",
    "\n",
    "            # features[6] は「基本形」（例：した → する）を表す\n",
    "            # \"*\" の場合は値がないのでスキップ\n",
    "            if features[6] != '*':\n",
    "                base_form = features[6]  # 基本形を取り出す\n",
    "                verbs.append(base_form)  # 動詞リストに追加\n",
    "\n",
    "    except ValueError:\n",
    "        # 行にタブが含まれていないなど、splitに失敗した場合はスキップ\n",
    "        continue\n",
    "\n",
    "# 【出力2】Pythonのリスト形式で動詞の基本形をすべて表示（重複は残す）\n",
    "print(\"📝 動詞のリスト（Pythonのリスト形式）\")\n",
    "print(verbs)"
   ]
  },
  {
   "cell_type": "markdown",
   "id": "69eb13a0",
   "metadata": {},
   "source": [
    "## 31. 動詞の原型\n",
    "文章textに含まれる動詞と、その原型をすべて表示せよ。"
   ]
  },
  {
   "cell_type": "code",
   "execution_count": null,
   "id": "d0dd6a8a",
   "metadata": {},
   "outputs": [],
   "source": []
  },
  {
   "cell_type": "markdown",
   "id": "29f87adf",
   "metadata": {},
   "source": [
    "## 32. 「AのB」\n",
    "文章textにおいて、2つの名詞が「の」で連結されている名詞句をすべて抽出せよ。\n",
    "\n"
   ]
  },
  {
   "cell_type": "code",
   "execution_count": null,
   "id": "6450d45e",
   "metadata": {},
   "outputs": [],
   "source": []
  },
  {
   "cell_type": "markdown",
   "id": "ffd1aec8",
   "metadata": {},
   "source": [
    "## 33. 係り受け解析\n",
    "文章textに係り受け解析を適用し、係り元と係り先のトークン（形態素や文節などの単位）をタブ区切り形式ですべて抽出せよ。"
   ]
  },
  {
   "cell_type": "code",
   "execution_count": null,
   "id": "74790f7b",
   "metadata": {},
   "outputs": [],
   "source": []
  },
  {
   "cell_type": "markdown",
   "id": "2779a809",
   "metadata": {},
   "source": [
    "## 34. 主述の関係\n",
    "文章textにおいて、「メロス」が主語であるときの述語を抽出せよ。"
   ]
  },
  {
   "cell_type": "markdown",
   "id": "4a66d9c5",
   "metadata": {},
   "source": []
  }
 ],
 "metadata": {
  "kernelspec": {
   "display_name": ".venv",
   "language": "python",
   "name": "python3"
  },
  "language_info": {
   "codemirror_mode": {
    "name": "ipython",
    "version": 3
   },
   "file_extension": ".py",
   "mimetype": "text/x-python",
   "name": "python",
   "nbconvert_exporter": "python",
   "pygments_lexer": "ipython3",
   "version": "3.9.6"
  }
 },
 "nbformat": 4,
 "nbformat_minor": 5
}
