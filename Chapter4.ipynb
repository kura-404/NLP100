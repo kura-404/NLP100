{
 "cells": [
  {
   "cell_type": "code",
   "execution_count": 1,
   "id": "8bd20b66",
   "metadata": {},
   "outputs": [
    {
     "name": "stdout",
     "output_type": "stream",
     "text": [
      "['する', '除く', 'なる', 'する', 'わかる', '吹く', '遊ぶ', '暮す', '来る']\n"
     ]
    }
   ],
   "source": [
    "import MeCab\n",
    "\n",
    "# 問題文のテキスト\n",
    "text = \"\"\"\n",
    "メロスは激怒した。\n",
    "必ず、かの邪智暴虐の王を除かなければならぬと決意した。\n",
    "メロスには政治がわからぬ。\n",
    "メロスは、村の牧人である。\n",
    "笛を吹き、羊と遊んで暮して来た。\n",
    "けれども邪悪に対しては、人一倍に敏感であった。\n",
    "\"\"\"\n",
    "\n",
    "# 【★★これが今回のポイント★★】\n",
    "# 引数を何も与えずにMeCabを初期化します。\n",
    "# これにより、正常に存在することを確認した設定ファイルが自動的に使われます。\n",
    "tagger=MeCab.Tagger()\n",
    "\n",
    "# 結果を格納するためのリスト\n",
    "verbs=[]\n",
    "\n",
    "# MeCabはparseメソッドで一気に解析する\n",
    "node = tagger.parse(text)\n",
    "\n",
    "# 結果を改行で分割して、1行（1単語）ずつ処理\n",
    "for line in node.split('\\n'):\n",
    "    if line == 'EOS' or line == '':\n",
    "        continue\n",
    "    surface, feature = line.split('\\t')\n",
    "    features = feature.split(',')\n",
    "    pos = features[0]\n",
    "    if pos == '動詞':\n",
    "        base_form = features[6] if features[6] != '*' else surface\n",
    "        verbs.append(base_form)\n",
    "        \n",
    "# 結果を表示\n",
    "print(verbs)"
   ]
  }
 ],
 "metadata": {
  "kernelspec": {
   "display_name": ".venv",
   "language": "python",
   "name": "python3"
  },
  "language_info": {
   "codemirror_mode": {
    "name": "ipython",
    "version": 3
   },
   "file_extension": ".py",
   "mimetype": "text/x-python",
   "name": "python",
   "nbconvert_exporter": "python",
   "pygments_lexer": "ipython3",
   "version": "3.9.6"
  }
 },
 "nbformat": 4,
 "nbformat_minor": 5
}
