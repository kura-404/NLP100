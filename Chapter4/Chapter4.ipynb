{
 "cells": [
  {
   "cell_type": "markdown",
   "id": "0",
   "metadata": {},
   "source": [
    "# 第4章: 言語解析\n",
    "問題30から問題35までは、以下の文章text（太宰治の『走れメロス』の冒頭部分）に対して、言語解析を実施せよ。問題36から問題39までは、国家を説明した文書群（日本語版ウィキペディア記事から抽出したテキスト群）をコーパスとして、言語解析を実施せよ。"
   ]
  },
  {
   "cell_type": "markdown",
   "id": "1",
   "metadata": {},
   "source": [
    "https://nlp100.github.io/2025/ja/ch04.html"
   ]
  },
  {
   "cell_type": "code",
   "execution_count": null,
   "id": "2",
   "metadata": {},
   "outputs": [],
   "source": [
    "text = \"\"\"\n",
    "メロスは激怒した。\n",
    "必ず、かの邪智暴虐の王を除かなければならぬと決意した。\n",
    "メロスには政治がわからぬ。\n",
    "メロスは、村の牧人である。\n",
    "笛を吹き、羊と遊んで暮して来た。\n",
    "けれども邪悪に対しては、人一倍に敏感であった。\n",
    "\"\"\""
   ]
  },
  {
   "cell_type": "markdown",
   "id": "3",
   "metadata": {},
   "source": [
    "## 30. 動詞\n",
    "文章textに含まれる動詞をすべて表示せよ。"
   ]
  },
  {
   "cell_type": "code",
   "execution_count": null,
   "id": "4",
   "metadata": {},
   "outputs": [],
   "source": [
    "import MeCab\n",
    "\n",
    "text = \"\"\"\n",
    "メロスは激怒した。\n",
    "必ず、かの邪智暴虐の王を除かなければならぬと決意した。\n",
    "メロスには政治がわからぬ。\n",
    "メロスは、村の牧人である。\n",
    "笛を吹き、羊と遊んで暮して来た。\n",
    "けれども邪悪に対しては、人一倍に敏感であった。\n",
    "\"\"\"\n",
    "\n",
    "tagger = MeCab.Tagger()\n",
    "node = tagger.parse(text)\n",
    "verbs = []\n",
    "\n",
    "for line in node.split('\\n'):\n",
    "    if line == 'EOS' or line == '':\n",
    "        continue\n",
    "    try:\n",
    "        surface, feature = line.split('\\t')\n",
    "        features = feature.split(',')\n",
    "        if features[0] == '動詞' and features[6] != '*':\n",
    "            base_form = features[6]\n",
    "            verbs.append(base_form)\n",
    "    except ValueError:\n",
    "        continue\n",
    "\n",
    "header = \"表層形\\t品詞,品詞細分類1,品詞細分類2,品詞細分類3,活用形,活用型,原形,読み,発音\"\n",
    "print(\"動詞のリスト\")\n",
    "print(verbs)\n",
    "\n",
    "print(\"MeCabの解析結果\")\n",
    "print(header)\n",
    "print(node)"
   ]
  },
  {
   "cell_type": "markdown",
   "id": "5",
   "metadata": {},
   "source": [
    "## 31. 動詞の原型\n",
    "文章textに含まれる動詞と、その原型をすべて表示せよ。"
   ]
  },
  {
   "cell_type": "code",
   "execution_count": null,
   "id": "6",
   "metadata": {},
   "outputs": [],
   "source": [
    "import MeCab\n",
    "\n",
    "text = \"\"\"\n",
    "メロスは激怒した。\n",
    "必ず、かの邪智暴虐の王を除かなければならぬと決意した。\n",
    "メロスには政治がわからぬ。\n",
    "メロスは、村の牧人である。\n",
    "笛を吹き、羊と遊んで暮して来た。\n",
    "けれども邪悪に対しては、人一倍に敏感であった。\n",
    "\"\"\"\n",
    "\n",
    "tagger = MeCab.Tagger()\n",
    "parsed = tagger.parse(text)\n",
    "verb_base_forms = []\n",
    "\n",
    "for line in parsed.split('\\n'):\n",
    "    if line == 'EOS' or line == '':\n",
    "        continue\n",
    "    try:\n",
    "        surface, feature = line.split('\\t')\n",
    "        features = feature.split(',')\n",
    "        if features[0] == '動詞':\n",
    "            base_form = features[6]\n",
    "            verb_base_forms.append((surface, base_form))\n",
    "    except ValueError:\n",
    "        continue\n",
    "\n",
    "print(\"動詞とその原形一覧\")\n",
    "for surface, base in verb_base_forms:\n",
    "    print(f\"{surface} → {base}\")"
   ]
  },
  {
   "cell_type": "markdown",
   "id": "7",
   "metadata": {},
   "source": [
    "## 32. 「AのB」\n",
    "文章textにおいて、2つの名詞が「の」で連結されている名詞句をすべて抽出せよ。\n",
    "\n"
   ]
  },
  {
   "cell_type": "code",
   "execution_count": null,
   "id": "8",
   "metadata": {},
   "outputs": [],
   "source": [
    "import MeCab\n",
    "\n",
    "text=\"\"\"\n",
    "メロスは激怒した。\n",
    "必ず、かの邪智暴虐の王を除かなければならぬと決意した。\n",
    "メロスには政治がわからぬ。\n",
    "メロスは、村の牧人である。\n",
    "笛を吹き、羊と遊んで暮して来た。\n",
    "けれども邪悪に対しては、人一倍に敏感であった。\n",
    "\"\"\"\n",
    "\n",
    "tagger=MeCab.Tagger()\n",
    "parsed_lines=tagger.parse(text).split('\\n')\n",
    "\n",
    "noun_phrases=[]\n",
    "prev_noun=None\n",
    "prev_no=False\n",
    "\n",
    "for line in parsed_lines:\n",
    "    if line=='EOS' or line =='':\n",
    "        continue\n",
    "    try:\n",
    "        surface, feature=line.split('\\t')\n",
    "        features=feature.split(',')\n",
    "        if features[0]=='名詞':\n",
    "            if prev_no and prev_noun:\n",
    "                noun_phrases.append(prev_noun+'の'+surface)\n",
    "            prev_noun = surface\n",
    "            prev_no = False\n",
    "        elif surface=='の':\n",
    "            prev_no=True\n",
    "        else:\n",
    "            prev_noun=None\n",
    "            prev_no=False\n",
    "    except ValueError:\n",
    "        continue\n",
    "\n",
    "for phrase in noun_phrases:\n",
    "    print(phrase)"
   ]
  },
  {
   "cell_type": "markdown",
   "id": "9",
   "metadata": {},
   "source": [
    "## 33. 係り受け解析\n",
    "文章textに係り受け解析を適用し、係り元と係り先のトークン（形態素や文節などの単位）をタブ区切り形式ですべて抽出せよ。"
   ]
  },
  {
   "cell_type": "code",
   "execution_count": null,
   "id": "10",
   "metadata": {},
   "outputs": [],
   "source": [
    "import CaboCha\n",
    "\n",
    "text = \"メロスは激怒した。\"\n",
    "c = CaboCha.Parser()\n",
    "tree = c.parse(text)\n",
    "\n",
    "tokens = []\n",
    "token = tree.token(0)\n",
    "\n",
    "while token:\n",
    "    tokens.append(token)\n",
    "    token = token.next\n",
    "\n",
    "for token in tokens:\n",
    "    if token.chunk:\n",
    "        from_text = token.surface\n",
    "        to_chunk = token.chunk.link\n",
    "        if to_chunk != -1:\n",
    "            to_text = tokens[tree.chunk(to_chunk).token_pos].surface\n",
    "            print(f\"{from_text}\\t{to_text}\")"
   ]
  },
  {
   "cell_type": "markdown",
   "id": "11",
   "metadata": {},
   "source": [
    "## 34. 主述の関係\n",
    "文章textにおいて、「メロス」が主語であるときの述語を抽出せよ。"
   ]
  },
  {
   "cell_type": "markdown",
   "id": "12",
   "metadata": {},
   "source": []
  }
 ],
 "metadata": {
  "kernelspec": {
   "display_name": ".venv",
   "language": "python",
   "name": "python3"
  },
  "language_info": {
   "codemirror_mode": {
    "name": "ipython",
    "version": 3
   },
   "file_extension": ".py",
   "mimetype": "text/x-python",
   "name": "python",
   "nbconvert_exporter": "python",
   "pygments_lexer": "ipython3",
   "version": "3.9.6"
  }
 },
 "nbformat": 4,
 "nbformat_minor": 5
}
