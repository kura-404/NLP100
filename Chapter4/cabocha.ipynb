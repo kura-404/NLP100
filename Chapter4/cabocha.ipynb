{
 "cells": [
  {
   "cell_type": "markdown",
   "id": "093814f5",
   "metadata": {},
   "source": [
    "CaboCha のインストール方法"
   ]
  },
  {
   "cell_type": "markdown",
   "id": "b44cde9a",
   "metadata": {},
   "source": [
    "CaboCha は日本語の係り受け解析ツールです。以下に、macOS と Ubuntu/Linux でのインストール手順を示します。Pythonバインディングも含めた案内です。\n",
    "\n",
    "⸻\n",
    "\n",
    "✅ macOS の場合（Homebrew 使用）\n",
    "\n",
    "1. MeCab を先にインストール（まだの場合）\n",
    "\n",
    "brew install mecab mecab-ipadic\n",
    "\n",
    "2. CaboCha のインストール\n",
    "\n",
    "brew install cabocha\n",
    "\n",
    "3. Python バインディングのインストール（Python 3系）\n",
    "\n",
    "pip install cabocha-python\n",
    "\n",
    "インストール確認:\n",
    "\n",
    "cabocha -v\n",
    "\n",
    "Python で確認:\n",
    "\n",
    "import cabocha\n",
    "c = cabocha.Parser()\n",
    "print(c.parse(\"太郎は花子が読んでいる本を次郎に渡した。\"))\n",
    "\n",
    "\n",
    "⸻\n",
    "\n",
    "✅ Ubuntu / Debian 系 Linux の場合\n",
    "\n",
    "1. 必要パッケージのインストール\n",
    "\n",
    "sudo apt update\n",
    "sudo apt install -y cabocha lib cabocha-dev mecab mecab-ipadic mecab-ipadic-utf8\n",
    "\n",
    "2. Python バインディングのインストール\n",
    "\n",
    "pip install cabocha-python\n",
    "\n",
    "\n",
    "⸻\n",
    "\n",
    "🔧 注意点\n",
    "\t•\tPythonバインディング（cabocha-python）はCaboChaのC++ライブラリに依存しており、システムにlibcabochaが必要です。\n",
    "\t•\tMacで cabocha-python を使う場合、Homebrew でインストールした libcabocha が自動的にリンクされます。\n",
    "\t•\tUniDicなど他の辞書を使いたい場合は、MeCabの辞書を個別に設定する必要があります。\n",
    "\n",
    "⸻\n",
    "\n",
    "📌 トラブルシューティング\n",
    "\t•\tImportError: libcabocha.so のようなエラーが出る場合は、ライブラリパスが通っていないことが原因です。環境変数にパスを追加してください。\n",
    "\t•\t例：\n",
    "\n",
    "export DYLD_LIBRARY_PATH=/opt/homebrew/lib:$DYLD_LIBRARY_PATH  # macOS\n",
    "export LD_LIBRARY_PATH=/usr/local/lib:$LD_LIBRARY_PATH          # Linux\n",
    "\n",
    "\n",
    "⸻\n",
    "\n",
    "環境や目的（Pythonから使う、C++のみ使うなど）に応じて、もう少しカスタマイズも可能です。必要に応じてお知らせください。"
   ]
  },
  {
   "cell_type": "markdown",
   "id": "034fddbd",
   "metadata": {},
   "source": [
    "(.venv) mana-ku@mm-dhcp-194-148 Chapter4 % python tmp.py \n",
    "Traceback (most recent call last):\n",
    "  File \"/Users/kuramotomana/nlp100/Chapter4/tmp.py\", line 1, in <module>\n",
    "    import cabocha\n",
    "ModuleNotFoundError: No module named 'cabocha'\n",
    "(.venv) mana-ku@mm-dhcp-194-148 Chapter4 % \n"
   ]
  },
  {
   "cell_type": "markdown",
   "id": "085837da",
   "metadata": {},
   "source": []
  },
  {
   "cell_type": "markdown",
   "id": "95b6e7a9",
   "metadata": {},
   "source": []
  }
 ],
 "metadata": {
  "language_info": {
   "name": "python"
  }
 },
 "nbformat": 4,
 "nbformat_minor": 5
}
